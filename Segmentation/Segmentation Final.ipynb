{
 "cells": [
  {
   "cell_type": "code",
   "execution_count": 2,
   "metadata": {
    "_cell_guid": "b1076dfc-b9ad-4769-8c92-a6c4dae69d19",
    "_uuid": "8f2839f25d086af736a60e9eeb907d3b93b6e0e5",
    "execution": {
     "iopub.execute_input": "2025-03-25T11:21:26.178241Z",
     "iopub.status.busy": "2025-03-25T11:21:26.177906Z",
     "iopub.status.idle": "2025-03-25T11:21:26.181855Z",
     "shell.execute_reply": "2025-03-25T11:21:26.181092Z",
     "shell.execute_reply.started": "2025-03-25T11:21:26.178172Z"
    },
    "trusted": true
   },
   "outputs": [],
   "source": [
    "# This Python 3 environment comes with many helpful analytics libraries installed\n",
    "# It is defined by the kaggle/python Docker image: https://github.com/kaggle/docker-python\n",
    "# For example, here's several helpful packages to load\n",
    "\n",
    "import numpy as np # linear algebra\n",
    "import pandas as pd # data processing, CSV file I/O (e.g. pd.read_csv)\n",
    "\n",
    "# Input data files are available in the read-only \"../input/\" directory\n",
    "# For example, running this (by clicking run or pressing Shift+Enter) will list all files under the input directory\n",
    "\n",
    "# import os\n",
    "# for dirname, _, filenames in os.walk('/kaggle/input'):\n",
    "#     for filename in filenames:\n",
    "#         print(os.path.join(dirname, filename))\n",
    "\n",
    "# You can write up to 20GB to the current directory (/kaggle/working/) that gets preserved as output when you create a version using \"Save & Run All\" \n",
    "# You can also write temporary files to /kaggle/temp/, but they won't be saved outside of the current session"
   ]
  },
  {
   "cell_type": "code",
   "execution_count": 3,
   "metadata": {
    "execution": {
     "iopub.execute_input": "2025-03-25T11:21:34.991674Z",
     "iopub.status.busy": "2025-03-25T11:21:34.991360Z",
     "iopub.status.idle": "2025-03-25T11:21:35.469867Z",
     "shell.execute_reply": "2025-03-25T11:21:35.469254Z",
     "shell.execute_reply.started": "2025-03-25T11:21:34.991651Z"
    },
    "trusted": true
   },
   "outputs": [],
   "source": [
    "# Importing the required modules\n",
    "\n",
    "import numpy as np\n",
    "import cv2\n",
    "import matplotlib.pyplot as plt\n",
    "import os\n",
    "import warnings\n",
    "warnings.filterwarnings('ignore')"
   ]
  },
  {
   "cell_type": "code",
   "execution_count": null,
   "metadata": {
    "execution": {
     "iopub.execute_input": "2025-03-25T11:21:40.898002Z",
     "iopub.status.busy": "2025-03-25T11:21:40.897730Z",
     "iopub.status.idle": "2025-03-25T11:21:40.901576Z",
     "shell.execute_reply": "2025-03-25T11:21:40.900687Z",
     "shell.execute_reply.started": "2025-03-25T11:21:40.897981Z"
    },
    "trusted": true
   },
   "outputs": [],
   "source": [
    "SOURCE_IMAGE_DIRECTORY = \"../MSFD/1/face_crop\""
   ]
  },
  {
   "cell_type": "code",
   "execution_count": 5,
   "metadata": {
    "execution": {
     "iopub.execute_input": "2025-03-25T11:21:46.064763Z",
     "iopub.status.busy": "2025-03-25T11:21:46.064482Z",
     "iopub.status.idle": "2025-03-25T11:21:46.069027Z",
     "shell.execute_reply": "2025-03-25T11:21:46.068033Z",
     "shell.execute_reply.started": "2025-03-25T11:21:46.064740Z"
    },
    "trusted": true
   },
   "outputs": [],
   "source": [
    "def readAndPreProcessImage(img_path):\n",
    "    img = cv2.imread(img_path)\n",
    "    imgRGB = cv2.cvtColor(img, cv2.COLOR_BGR2RGB)\n",
    "    gray = cv2.cvtColor(img, cv2.COLOR_BGR2GRAY)\n",
    "    return img, imgRGB, gray"
   ]
  },
  {
   "cell_type": "code",
   "execution_count": 6,
   "metadata": {
    "execution": {
     "iopub.execute_input": "2025-03-25T11:21:51.376076Z",
     "iopub.status.busy": "2025-03-25T11:21:51.375747Z",
     "iopub.status.idle": "2025-03-25T11:21:51.379959Z",
     "shell.execute_reply": "2025-03-25T11:21:51.379159Z",
     "shell.execute_reply.started": "2025-03-25T11:21:51.376048Z"
    },
    "trusted": true
   },
   "outputs": [],
   "source": [
    "def applyOtsuThreshold(gray):\n",
    "    _, otsuMask = cv2.threshold(gray, 0, 255, cv2.THRESH_BINARY_INV + cv2.THRESH_OTSU)\n",
    "    return otsuMask"
   ]
  },
  {
   "cell_type": "code",
   "execution_count": 7,
   "metadata": {
    "execution": {
     "iopub.execute_input": "2025-03-25T11:21:56.050643Z",
     "iopub.status.busy": "2025-03-25T11:21:56.050338Z",
     "iopub.status.idle": "2025-03-25T11:21:56.054099Z",
     "shell.execute_reply": "2025-03-25T11:21:56.053379Z",
     "shell.execute_reply.started": "2025-03-25T11:21:56.050623Z"
    },
    "trusted": true
   },
   "outputs": [],
   "source": [
    "def detectEdges(gray, lowThreshold=50, highThreshold=150):\n",
    "    edges = cv2.Canny(gray, lowThreshold, highThreshold)\n",
    "    return edges"
   ]
  },
  {
   "cell_type": "code",
   "execution_count": 8,
   "metadata": {
    "execution": {
     "iopub.execute_input": "2025-03-25T11:22:01.704772Z",
     "iopub.status.busy": "2025-03-25T11:22:01.704503Z",
     "iopub.status.idle": "2025-03-25T11:22:01.708845Z",
     "shell.execute_reply": "2025-03-25T11:22:01.708051Z",
     "shell.execute_reply.started": "2025-03-25T11:22:01.704750Z"
    },
    "trusted": true
   },
   "outputs": [],
   "source": [
    "def applyMorphologicalClosing(mask, kernelSize=(5, 5)):\n",
    "    kernel = np.ones(kernelSize, np.uint8)\n",
    "    closed = cv2.morphologyEx(mask, cv2.MORPH_CLOSE, kernel)\n",
    "    return closed"
   ]
  },
  {
   "cell_type": "code",
   "execution_count": 9,
   "metadata": {
    "execution": {
     "iopub.execute_input": "2025-03-25T11:22:07.983265Z",
     "iopub.status.busy": "2025-03-25T11:22:07.982937Z",
     "iopub.status.idle": "2025-03-25T11:22:07.987148Z",
     "shell.execute_reply": "2025-03-25T11:22:07.986155Z",
     "shell.execute_reply.started": "2025-03-25T11:22:07.983238Z"
    },
    "trusted": true
   },
   "outputs": [],
   "source": [
    "def combineMasks(mask1, mask2):\n",
    "    combined = cv2.bitwise_and(mask1, mask1, mask=mask2)\n",
    "    return combined"
   ]
  },
  {
   "cell_type": "code",
   "execution_count": 10,
   "metadata": {
    "execution": {
     "iopub.execute_input": "2025-03-25T11:22:14.074558Z",
     "iopub.status.busy": "2025-03-25T11:22:14.074273Z",
     "iopub.status.idle": "2025-03-25T11:22:14.079700Z",
     "shell.execute_reply": "2025-03-25T11:22:14.078631Z",
     "shell.execute_reply.started": "2025-03-25T11:22:14.074536Z"
    },
    "trusted": true
   },
   "outputs": [],
   "source": [
    "def visualize(imgRGB, otsuMask, edges, otsuClosed):\n",
    "    plt.figure(figsize=(40, 10))\n",
    "\n",
    "    titles = [\n",
    "        \"The Original RGB Image\",\n",
    "        \"Otsu's Thresholding Applied\",\n",
    "        \"Canny Edge Detection\",\n",
    "        \"Otsu + Morphological Closing\"\n",
    "    ]\n",
    "    images = [imgRGB, otsuMask, edges, otsuClosed]\n",
    "    cmaps = [None, 'gray', 'gray', 'gray']\n",
    "\n",
    "    for i in range(4):\n",
    "        plt.subplot(1, 4, i + 1)\n",
    "        plt.imshow(images[i], cmap=cmaps[i])\n",
    "        plt.title(titles[i], fontsize=24)\n",
    "        plt.axis('off')\n",
    "\n",
    "    plt.suptitle(\"Traditional Facemask Segmentation using Otsu's Thresholding and Canny\", fontsize=28, y=1.05)\n",
    "    plt.tight_layout()\n",
    "    plt.show()"
   ]
  },
  {
   "cell_type": "code",
   "execution_count": null,
   "metadata": {
    "execution": {
     "iopub.execute_input": "2025-03-25T11:22:19.992625Z",
     "iopub.status.busy": "2025-03-25T11:22:19.992319Z",
     "iopub.status.idle": "2025-03-25T11:22:20.187429Z",
     "shell.execute_reply": "2025-03-25T11:22:20.186735Z",
     "shell.execute_reply.started": "2025-03-25T11:22:19.992601Z"
    },
    "trusted": true
   },
   "outputs": [],
   "source": [
    "imagePath = \"../MSFD/1/face_crop/005100_1.jpg\"\n",
    "img, imgRGB, gray = readAndPreProcessImage(imagePath)\n",
    "otsuMask = applyOtsuThreshold(gray)\n",
    "edges = detectEdges(gray)\n",
    "otsuClosed = applyMorphologicalClosing(otsuMask)\n",
    "combined = combineMasks(otsuClosed, edges)\n",
    "# visualize(imgRGB, otsuMask, edges, otsuClosed)"
   ]
  },
  {
   "cell_type": "code",
   "execution_count": 12,
   "metadata": {
    "execution": {
     "iopub.execute_input": "2025-03-25T11:22:27.758492Z",
     "iopub.status.busy": "2025-03-25T11:22:27.758170Z",
     "iopub.status.idle": "2025-03-25T11:22:27.762983Z",
     "shell.execute_reply": "2025-03-25T11:22:27.762061Z",
     "shell.execute_reply.started": "2025-03-25T11:22:27.758469Z"
    },
    "trusted": true
   },
   "outputs": [],
   "source": [
    "def computeMetrics(pred, gt):\n",
    "    intersection = np.logical_and(pred, gt).sum()\n",
    "    union = np.logical_or(pred, gt).sum()\n",
    "    iou = intersection / (union + 1e-6)\n",
    "    dice = 2 * intersection / (pred.sum() + gt.sum() + 1e-6)\n",
    "    return iou, dice"
   ]
  },
  {
   "cell_type": "code",
   "execution_count": 13,
   "metadata": {
    "execution": {
     "iopub.execute_input": "2025-03-25T11:22:32.977107Z",
     "iopub.status.busy": "2025-03-25T11:22:32.976810Z",
     "iopub.status.idle": "2025-03-25T11:22:32.981274Z",
     "shell.execute_reply": "2025-03-25T11:22:32.980368Z",
     "shell.execute_reply.started": "2025-03-25T11:22:32.977084Z"
    },
    "trusted": true
   },
   "outputs": [],
   "source": [
    "def applyOtsuThreshold(gray, kernel):\n",
    "    _, otsuMask = cv2.threshold(gray, 0, 255, cv2.THRESH_BINARY_INV + cv2.THRESH_OTSU)\n",
    "    otsuClosed = cv2.morphologyEx(otsuMask, cv2.MORPH_CLOSE, kernel)\n",
    "    predOtsu = (otsuClosed > 0).astype(np.uint8)\n",
    "    return predOtsu"
   ]
  },
  {
   "cell_type": "code",
   "execution_count": 14,
   "metadata": {
    "execution": {
     "iopub.execute_input": "2025-03-25T11:22:39.612560Z",
     "iopub.status.busy": "2025-03-25T11:22:39.612253Z",
     "iopub.status.idle": "2025-03-25T11:22:39.618902Z",
     "shell.execute_reply": "2025-03-25T11:22:39.617810Z",
     "shell.execute_reply.started": "2025-03-25T11:22:39.612534Z"
    },
    "trusted": true
   },
   "outputs": [],
   "source": [
    "ious, dices = [], []\n",
    "\n",
    "def evaluateSegmentation(imageDir, maskDir):\n",
    "    \n",
    "    kernel = np.ones((5, 5), np.uint8)\n",
    "\n",
    "\n",
    "    imageFiles = sorted(os.listdir(imageDir))\n",
    "    # imageFiles = getImagesFromDirectory(imageDir)\n",
    "\n",
    "    for filename in imageFiles:\n",
    "        imgPath = os.path.join(imageDir, filename)\n",
    "        maskPath = os.path.join(maskDir, filename)\n",
    "\n",
    "        img = cv2.imread(imgPath)\n",
    "        gt = cv2.imread(maskPath, 0)\n",
    "\n",
    "        if img is None or gt is None:\n",
    "            continue\n",
    "\n",
    "        gray = cv2.cvtColor(img, cv2.COLOR_BGR2GRAY)\n",
    "        gtMask = (gt > 127).astype(np.uint8)\n",
    "\n",
    "        predOtsu = applyOtsuThreshold(gray, kernel)\n",
    "\n",
    "        predOtsu = cv2.resize(predOtsu, (gtMask.shape[1], gtMask.shape[0]), interpolation=cv2.INTER_NEAREST)\n",
    "\n",
    "        iou, dice = computeMetrics(predOtsu, gtMask)\n",
    "        ious.append(iou)\n",
    "        dices.append(dice)\n",
    "        \n",
    "\n",
    "    print(f\"\\033[96mResult of Otsu's Thresholding on {len(ious)} images\\033[0m\")      # Yellow\n",
    "    print(f\"\\033[92mMean Intersection over Union(IoU): {np.mean(ious):.4f}\\033[0m\")  # Green\n",
    "    print(f\"\\033[92mMean Dice: {np.mean(dices):.4f}\\033[0m\\n\")  # Green"
   ]
  },
  {
   "cell_type": "code",
   "execution_count": 15,
   "metadata": {
    "execution": {
     "iopub.execute_input": "2025-03-25T11:22:45.651364Z",
     "iopub.status.busy": "2025-03-25T11:22:45.651005Z",
     "iopub.status.idle": "2025-03-25T11:25:22.288908Z",
     "shell.execute_reply": "2025-03-25T11:25:22.288024Z",
     "shell.execute_reply.started": "2025-03-25T11:22:45.651332Z"
    },
    "trusted": true
   },
   "outputs": [
    {
     "name": "stdout",
     "output_type": "stream",
     "text": [
      "\u001b[96mResult of Otsu's Thresholding on 9382 images\u001b[0m\n",
      "\u001b[92mMean Intersection over Union(IoU): 0.2583\u001b[0m\n",
      "\u001b[92mMean Dice: 0.3603\u001b[0m\n",
      "\n"
     ]
    }
   ],
   "source": [
    "# Example usage\n",
    "IMAGE_DIRECTORY = '/kaggle/input/masked-face-segmentation-dataset/MSFD/1/face_crop'\n",
    "MASK_DIRECTORY = '/kaggle/input/masked-face-segmentation-dataset/MSFD/1/face_crop_segmentation'\n",
    "\n",
    "evaluateSegmentation(IMAGE_DIRECTORY, MASK_DIRECTORY)"
   ]
  },
  {
   "cell_type": "markdown",
   "metadata": {},
   "source": [
    "## UNet\n",
    "### In the code cells following, we will be applying the UNet model."
   ]
  },
  {
   "cell_type": "code",
   "execution_count": 16,
   "metadata": {
    "execution": {
     "iopub.execute_input": "2025-03-25T11:25:22.290368Z",
     "iopub.status.busy": "2025-03-25T11:25:22.290027Z",
     "iopub.status.idle": "2025-03-25T11:25:26.474977Z",
     "shell.execute_reply": "2025-03-25T11:25:26.474065Z",
     "shell.execute_reply.started": "2025-03-25T11:25:22.290337Z"
    },
    "trusted": true
   },
   "outputs": [],
   "source": [
    "import os\n",
    "import numpy as np\n",
    "import torch\n",
    "import matplotlib.pyplot as plt\n",
    "from sklearn.model_selection import train_test_split\n",
    "\n",
    "IMG_HEIGHT, IMG_WIDTH = 256, 256\n",
    "BATCH_SIZE = 16\n",
    "\n",
    "BASE_DIR = \"/kaggle/input/MSFD/1\"\n",
    "IMAGE_DIR = \"/kaggle/input/masked-face-segmentation-dataset/MSFD/1/face_crop\"\n",
    "MASK_DIR = \"/kaggle/input/masked-face-segmentation-dataset/MSFD/1/face_crop_segmentation\""
   ]
  },
  {
   "cell_type": "code",
   "execution_count": 17,
   "metadata": {
    "execution": {
     "iopub.execute_input": "2025-03-25T11:25:26.477001Z",
     "iopub.status.busy": "2025-03-25T11:25:26.476542Z",
     "iopub.status.idle": "2025-03-25T11:25:26.528751Z",
     "shell.execute_reply": "2025-03-25T11:25:26.528099Z",
     "shell.execute_reply.started": "2025-03-25T11:25:26.476969Z"
    },
    "trusted": true
   },
   "outputs": [],
   "source": [
    "imagePaths = sorted([os.path.join(IMAGE_DIR, f) for f in os.listdir(IMAGE_DIR)])\n",
    "maskPaths = sorted([os.path.join(MASK_DIR, f) for f in os.listdir(MASK_DIR)])\n",
    "\n",
    "# Train-test split\n",
    "trainImgs, valtestImgs, trainMasks, valtestMasks = train_test_split(\n",
    "    imagePaths, maskPaths, test_size=0.3, random_state=42\n",
    ")\n",
    "valImgs, testImgs, valMasks, testMasks = train_test_split(\n",
    "    valtestImgs, valtestMasks, test_size=0.5, random_state=42\n",
    ")\n"
   ]
  },
  {
   "cell_type": "code",
   "execution_count": 18,
   "metadata": {
    "execution": {
     "iopub.execute_input": "2025-03-25T11:25:26.530039Z",
     "iopub.status.busy": "2025-03-25T11:25:26.529800Z",
     "iopub.status.idle": "2025-03-25T11:25:30.579975Z",
     "shell.execute_reply": "2025-03-25T11:25:30.579085Z",
     "shell.execute_reply.started": "2025-03-25T11:25:26.530018Z"
    },
    "trusted": true
   },
   "outputs": [],
   "source": [
    "from PIL import Image\n",
    "from torch.utils.data import Dataset, DataLoader\n",
    "import torchvision.transforms as transforms\n",
    "\n",
    "# Image-mask loader\n",
    "class ImgMaskDataset(Dataset):\n",
    "    def __init__(self, imgPaths, maskPaths):\n",
    "        self.imgPaths = imgPaths\n",
    "        self.maskPaths = maskPaths\n",
    "        self.transform_img = transforms.Compose([\n",
    "            transforms.Resize((IMG_HEIGHT, IMG_WIDTH)),\n",
    "            transforms.ToTensor(),  # Automatically scales to [0, 1]\n",
    "        ])\n",
    "        self.transform_mask = transforms.Compose([\n",
    "            transforms.Resize((IMG_HEIGHT, IMG_WIDTH)),\n",
    "            transforms.ToTensor(),  # Will keep mask values in [0, 1]\n",
    "        ])\n",
    "\n",
    "    def __len__(self):\n",
    "        return len(self.imgPaths)\n",
    "\n",
    "    def __getitem__(self, idx):\n",
    "        img = Image.open(self.imgPaths[idx]).convert(\"RGB\")\n",
    "        img = self.transform_img(img)\n",
    "\n",
    "        mask = Image.open(self.maskPaths[idx]).convert(\"L\")\n",
    "        mask = self.transform_mask(mask)\n",
    "        mask = (mask > 0.5).float()  # Equivalent to thresholding > 127 in 8-bit\n",
    "\n",
    "        return img, mask\n",
    "\n",
    "# Dataset builder\n",
    "def createDataset(imgs, masks):\n",
    "    dataset = ImgMaskDataset(imgs, masks)\n",
    "    dataloader = DataLoader(dataset, batch_size=BATCH_SIZE, shuffle=False, num_workers=0, pin_memory=True)\n",
    "    return dataloader\n"
   ]
  },
  {
   "cell_type": "code",
   "execution_count": 19,
   "metadata": {
    "execution": {
     "iopub.execute_input": "2025-03-25T11:25:30.581351Z",
     "iopub.status.busy": "2025-03-25T11:25:30.580854Z",
     "iopub.status.idle": "2025-03-25T11:25:30.585823Z",
     "shell.execute_reply": "2025-03-25T11:25:30.584910Z",
     "shell.execute_reply.started": "2025-03-25T11:25:30.581319Z"
    },
    "trusted": true
   },
   "outputs": [],
   "source": [
    "trainDs = createDataset(trainImgs, trainMasks)\n",
    "valDs = createDataset(valImgs, valMasks)\n",
    "testDs = createDataset(testImgs, testMasks)"
   ]
  },
  {
   "cell_type": "code",
   "execution_count": 20,
   "metadata": {
    "execution": {
     "iopub.execute_input": "2025-03-25T11:25:30.587100Z",
     "iopub.status.busy": "2025-03-25T11:25:30.586769Z",
     "iopub.status.idle": "2025-03-25T11:25:30.606642Z",
     "shell.execute_reply": "2025-03-25T11:25:30.605787Z",
     "shell.execute_reply.started": "2025-03-25T11:25:30.587068Z"
    },
    "trusted": true
   },
   "outputs": [],
   "source": [
    "import torch\n",
    "import torch.nn as nn\n",
    "import torch.nn.functional as F\n",
    "\n",
    "# Convolutional block with optional BatchNorm\n",
    "class ConvBlock(nn.Module):\n",
    "    def __init__(self, in_channels, out_channels, batch_norm=True):\n",
    "        super(ConvBlock, self).__init__()\n",
    "        layers = [\n",
    "            nn.Conv2d(in_channels, out_channels, kernel_size=3, padding=1)\n",
    "        ]\n",
    "        if batch_norm:\n",
    "            layers.append(nn.BatchNorm2d(out_channels))\n",
    "        layers.append(nn.ReLU(inplace=True))\n",
    "\n",
    "        layers.append(nn.Conv2d(out_channels, out_channels, kernel_size=3, padding=1))\n",
    "        if batch_norm:\n",
    "            layers.append(nn.BatchNorm2d(out_channels))\n",
    "        layers.append(nn.ReLU(inplace=True))\n",
    "\n",
    "        self.block = nn.Sequential(*layers)\n",
    "\n",
    "    def forward(self, x):\n",
    "        return self.block(x)\n",
    "\n",
    "# Full U-Net for RGB input\n",
    "class UNet(nn.Module):\n",
    "    def __init__(self, in_channels=3, out_channels=1, batch_norm=True):  # Changed in_channels to 3\n",
    "        super(UNet, self).__init__()\n",
    "\n",
    "        self.enc1 = ConvBlock(in_channels, 64, batch_norm)\n",
    "        self.enc2 = ConvBlock(64, 128, batch_norm)\n",
    "        self.enc3 = ConvBlock(128, 256, batch_norm)\n",
    "        self.enc4 = ConvBlock(256, 512, batch_norm)\n",
    "        self.bottleneck = ConvBlock(512, 1024, batch_norm)\n",
    "\n",
    "        self.up6 = nn.ConvTranspose2d(1024, 512, kernel_size=2, stride=2)\n",
    "        self.dec6 = ConvBlock(1024, 512, batch_norm)\n",
    "\n",
    "        self.up7 = nn.ConvTranspose2d(512, 256, kernel_size=2, stride=2)\n",
    "        self.dec7 = ConvBlock(512, 256, batch_norm)\n",
    "\n",
    "        self.up8 = nn.ConvTranspose2d(256, 128, kernel_size=2, stride=2)\n",
    "        self.dec8 = ConvBlock(256, 128, batch_norm)\n",
    "\n",
    "        self.up9 = nn.ConvTranspose2d(128, 64, kernel_size=2, stride=2)\n",
    "        self.dec9 = ConvBlock(128, 64, batch_norm)\n",
    "\n",
    "        self.final = nn.Conv2d(64, out_channels, kernel_size=1)\n",
    "\n",
    "    def forward(self, x):\n",
    "        c1 = self.enc1(x)\n",
    "        p1 = F.max_pool2d(c1, kernel_size=2)\n",
    "\n",
    "        c2 = self.enc2(p1)\n",
    "        p2 = F.max_pool2d(c2, kernel_size=2)\n",
    "\n",
    "        c3 = self.enc3(p2)\n",
    "        p3 = F.max_pool2d(c3, kernel_size=2)\n",
    "\n",
    "        c4 = self.enc4(p3)\n",
    "        p4 = F.max_pool2d(c4, kernel_size=2)\n",
    "\n",
    "        c5 = self.bottleneck(p4)\n",
    "\n",
    "        u6 = self.up6(c5)\n",
    "        u6 = torch.cat([u6, c4], dim=1)\n",
    "        c6 = self.dec6(u6)\n",
    "\n",
    "        u7 = self.up7(c6)\n",
    "        u7 = torch.cat([u7, c3], dim=1)\n",
    "        c7 = self.dec7(u7)\n",
    "\n",
    "        u8 = self.up8(c7)\n",
    "        u8 = torch.cat([u8, c2], dim=1)\n",
    "        c8 = self.dec8(u8)\n",
    "\n",
    "        u9 = self.up9(c8)\n",
    "        u9 = torch.cat([u9, c1], dim=1)\n",
    "        c9 = self.dec9(u9)\n",
    "\n",
    "        return torch.sigmoid(self.final(c9))"
   ]
  },
  {
   "cell_type": "code",
   "execution_count": 21,
   "metadata": {
    "execution": {
     "iopub.execute_input": "2025-03-25T11:25:30.607857Z",
     "iopub.status.busy": "2025-03-25T11:25:30.607553Z",
     "iopub.status.idle": "2025-03-25T11:25:30.621434Z",
     "shell.execute_reply": "2025-03-25T11:25:30.620670Z",
     "shell.execute_reply.started": "2025-03-25T11:25:30.607828Z"
    },
    "trusted": true
   },
   "outputs": [],
   "source": [
    "def diceCoef(yTrue, yPred, smooth=1e-7):\n",
    "    yPred = (yPred > 0.5).float()\n",
    "    intersection = torch.sum(yTrue * yPred)\n",
    "    return (2. * intersection + smooth) / (torch.sum(yTrue) + torch.sum(yPred) + smooth)\n",
    "\n",
    "def iouMetric(yTrue, yPred, smooth=1e-7):\n",
    "    yPred = (yPred > 0.5).float()\n",
    "    intersection = torch.sum(yTrue * yPred)\n",
    "    union = torch.sum(yTrue) + torch.sum(yPred) - intersection\n",
    "    return (intersection + smooth) / (union + smooth)"
   ]
  },
  {
   "cell_type": "code",
   "execution_count": 22,
   "metadata": {
    "execution": {
     "iopub.execute_input": "2025-03-25T11:25:30.623664Z",
     "iopub.status.busy": "2025-03-25T11:25:30.623422Z",
     "iopub.status.idle": "2025-03-25T11:25:32.325962Z",
     "shell.execute_reply": "2025-03-25T11:25:32.325265Z",
     "shell.execute_reply.started": "2025-03-25T11:25:30.623644Z"
    },
    "trusted": true
   },
   "outputs": [
    {
     "name": "stdout",
     "output_type": "stream",
     "text": [
      "Using 2 GPUs!\n",
      "cuda\n"
     ]
    },
    {
     "data": {
      "text/plain": [
       "==========================================================================================\n",
       "Layer (type:depth-idx)                   Output Shape              Param #\n",
       "==========================================================================================\n",
       "DataParallel                             [1, 1, 256, 256]          --\n",
       "├─UNet: 1-1                              [1, 1, 256, 256]          31,043,521\n",
       "├─UNet: 1-2                              --                        --\n",
       "│    └─ConvBlock: 2-1                    [1, 64, 256, 256]         38,976\n",
       "│    └─ConvBlock: 2-2                    --                        --\n",
       "│    │    └─Sequential: 3-1              [1, 64, 256, 256]         38,976\n",
       "│    │    └─Sequential: 3-2              --                        38,976\n",
       "│    └─ConvBlock: 2-3                    [1, 128, 128, 128]        221,952\n",
       "│    └─ConvBlock: 2-4                    --                        --\n",
       "│    │    └─Sequential: 3-3              [1, 128, 128, 128]        221,952\n",
       "│    │    └─Sequential: 3-4              --                        221,952\n",
       "│    └─ConvBlock: 2-5                    [1, 256, 64, 64]          886,272\n",
       "│    └─ConvBlock: 2-6                    --                        --\n",
       "│    │    └─Sequential: 3-5              [1, 256, 64, 64]          886,272\n",
       "│    │    └─Sequential: 3-6              --                        886,272\n",
       "│    └─ConvBlock: 2-7                    [1, 512, 32, 32]          3,542,016\n",
       "│    └─ConvBlock: 2-8                    --                        --\n",
       "│    │    └─Sequential: 3-7              [1, 512, 32, 32]          3,542,016\n",
       "│    │    └─Sequential: 3-8              --                        3,542,016\n",
       "│    └─ConvBlock: 2-9                    [1, 1024, 16, 16]         14,161,920\n",
       "│    └─ConvBlock: 2-10                   --                        --\n",
       "│    │    └─Sequential: 3-9              [1, 1024, 16, 16]         14,161,920\n",
       "│    │    └─Sequential: 3-10             --                        14,161,920\n",
       "│    └─ConvTranspose2d: 2-11             [1, 512, 32, 32]          2,097,664\n",
       "│    └─ConvBlock: 2-12                   [1, 512, 32, 32]          7,080,960\n",
       "│    └─ConvBlock: 2-13                   --                        --\n",
       "│    │    └─Sequential: 3-11             [1, 512, 32, 32]          7,080,960\n",
       "│    │    └─Sequential: 3-12             --                        7,080,960\n",
       "│    └─ConvTranspose2d: 2-14             [1, 256, 64, 64]          524,544\n",
       "│    └─ConvBlock: 2-15                   [1, 256, 64, 64]          1,771,008\n",
       "│    └─ConvBlock: 2-16                   --                        --\n",
       "│    │    └─Sequential: 3-13             [1, 256, 64, 64]          1,771,008\n",
       "│    │    └─Sequential: 3-14             --                        1,771,008\n",
       "│    └─ConvTranspose2d: 2-17             [1, 128, 128, 128]        131,200\n",
       "│    └─ConvBlock: 2-18                   [1, 128, 128, 128]        443,136\n",
       "│    └─ConvBlock: 2-19                   --                        --\n",
       "│    │    └─Sequential: 3-15             [1, 128, 128, 128]        443,136\n",
       "│    │    └─Sequential: 3-16             --                        443,136\n",
       "│    └─ConvTranspose2d: 2-20             [1, 64, 256, 256]         32,832\n",
       "│    └─ConvBlock: 2-21                   [1, 64, 256, 256]         110,976\n",
       "│    └─ConvBlock: 2-22                   --                        --\n",
       "│    │    └─Sequential: 3-17             [1, 64, 256, 256]         110,976\n",
       "│    │    └─Sequential: 3-18             --                        110,976\n",
       "│    └─Conv2d: 2-23                      [1, 1, 256, 256]          65\n",
       "==========================================================================================\n",
       "Total params: 118,601,474\n",
       "Trainable params: 118,601,474\n",
       "Non-trainable params: 0\n",
       "Total mult-adds (G): 54.65\n",
       "==========================================================================================\n",
       "Input size (MB): 0.79\n",
       "Forward/backward pass size (MB): 575.14\n",
       "Params size (MB): 124.17\n",
       "Estimated Total Size (MB): 700.10\n",
       "=========================================================================================="
      ]
     },
     "metadata": {},
     "output_type": "display_data"
    }
   ],
   "source": [
    "import torch\n",
    "import torch.nn as nn\n",
    "import torch.optim as optim\n",
    "from torchinfo import summary\n",
    "\n",
    "device = torch.device('cuda' if torch.cuda.is_available() else 'cpu')\n",
    "\n",
    "# # if torch.backends.mps.is_available():\n",
    "# #     device = torch.device('mps')\n",
    "\n",
    "# print(device)\n",
    "\n",
    "# model = UNet(in_channels=3, out_channels=1, batch_norm=True).to(device)\n",
    "# summary(model, input_size=(1, 3, 256, 256))  # (batch_size, channels, height, width)\n",
    "\n",
    "model = UNet(in_channels=3, out_channels=1, batch_norm=True)\n",
    "\n",
    "# Wrap with DataParallel if multiple GPUs are available\n",
    "if torch.cuda.device_count() > 1:\n",
    "    model = nn.DataParallel(model)\n",
    "    print(f\"Using {torch.cuda.device_count()} GPUs!\")\n",
    "\n",
    "model = model.to(device)\n",
    "print(device)\n",
    "display(summary(model, input_size=(1, 3, 256, 256)))  # (batch_size, channels, height, width)\n",
    "\n",
    "# Binary Cross Entropy loss (like Keras)\n",
    "criterion = nn.BCELoss()\n",
    "optimizer = optim.Adam(model.parameters(), lr=1e-3)\n"
   ]
  },
  {
   "cell_type": "code",
   "execution_count": 23,
   "metadata": {
    "execution": {
     "iopub.execute_input": "2025-03-25T11:25:32.327051Z",
     "iopub.status.busy": "2025-03-25T11:25:32.326851Z",
     "iopub.status.idle": "2025-03-25T11:25:32.333772Z",
     "shell.execute_reply": "2025-03-25T11:25:32.332941Z",
     "shell.execute_reply.started": "2025-03-25T11:25:32.327033Z"
    },
    "trusted": true
   },
   "outputs": [],
   "source": [
    "def train(model, trainLoader, valLoader, criterion, optimizer, epochs=15):\n",
    "    for epoch in range(epochs):\n",
    "        model.train()\n",
    "        trainLoss, trainDice, trainIou = 0.0, 0.0, 0.0\n",
    "\n",
    "        for imgs, masks in trainLoader:\n",
    "            imgs, masks = imgs.to(device), masks.to(device)\n",
    "\n",
    "            outputs = model(imgs)\n",
    "            loss = criterion(outputs, masks)\n",
    "\n",
    "            optimizer.zero_grad()\n",
    "            loss.backward()\n",
    "            optimizer.step()\n",
    "\n",
    "            trainLoss += loss.item()\n",
    "            trainDice += diceCoef(masks, outputs).item()\n",
    "            trainIou += iouMetric(masks, outputs).item()\n",
    "\n",
    "        # Validation\n",
    "        model.eval()\n",
    "        valLoss, valDice, valIou = 0.0, 0.0, 0.0\n",
    "        with torch.no_grad():\n",
    "            for imgs, masks in valLoader:\n",
    "                imgs, masks = imgs.to(device), masks.to(device)\n",
    "                outputs = model(imgs)\n",
    "                loss = criterion(outputs, masks)\n",
    "\n",
    "                valLoss += loss.item()\n",
    "                valDice += diceCoef(masks, outputs).item()\n",
    "                valIou += iouMetric(masks, outputs).item()\n",
    "\n",
    "        # Average stats\n",
    "        numTrain = len(trainLoader)\n",
    "        numVal = len(valLoader)\n",
    "\n",
    "        print(f\"Epoch [{epoch+1}/{epochs}]\")\n",
    "        print(f\"  Train Loss: {trainLoss/numTrain:.4f} | Dice: {trainDice/numTrain:.4f} | IoU: {trainIou/numTrain:.4f}\")\n",
    "        print(f\"  Val   Loss: {valLoss/numVal:.4f} | Dice: {valDice/numVal:.4f} | IoU: {valIou/numVal:.4f}\")"
   ]
  },
  {
   "cell_type": "code",
   "execution_count": 24,
   "metadata": {
    "execution": {
     "iopub.execute_input": "2025-03-25T11:25:32.334758Z",
     "iopub.status.busy": "2025-03-25T11:25:32.334543Z",
     "iopub.status.idle": "2025-03-25T12:46:45.882840Z",
     "shell.execute_reply": "2025-03-25T12:46:45.881856Z",
     "shell.execute_reply.started": "2025-03-25T11:25:32.334740Z"
    },
    "trusted": true
   },
   "outputs": [
    {
     "name": "stdout",
     "output_type": "stream",
     "text": [
      "Epoch [1/15]\n",
      "  Train Loss: 0.3609 | Dice: 0.7427 | IoU: 0.5954\n",
      "  Val   Loss: 0.3140 | Dice: 0.7908 | IoU: 0.6547\n",
      "Epoch [2/15]\n",
      "  Train Loss: 0.2922 | Dice: 0.7990 | IoU: 0.6659\n",
      "  Val   Loss: 0.2857 | Dice: 0.8052 | IoU: 0.6746\n",
      "Epoch [3/15]\n",
      "  Train Loss: 0.2850 | Dice: 0.8043 | IoU: 0.6732\n",
      "  Val   Loss: 0.2823 | Dice: 0.8068 | IoU: 0.6768\n",
      "Epoch [4/15]\n",
      "  Train Loss: 0.2818 | Dice: 0.8070 | IoU: 0.6771\n",
      "  Val   Loss: 0.2793 | Dice: 0.8105 | IoU: 0.6820\n",
      "Epoch [5/15]\n",
      "  Train Loss: 0.2793 | Dice: 0.8089 | IoU: 0.6798\n",
      "  Val   Loss: 0.2790 | Dice: 0.8131 | IoU: 0.6857\n",
      "Epoch [6/15]\n",
      "  Train Loss: 0.2773 | Dice: 0.8107 | IoU: 0.6823\n",
      "  Val   Loss: 0.2792 | Dice: 0.8114 | IoU: 0.6833\n",
      "Epoch [7/15]\n",
      "  Train Loss: 0.2758 | Dice: 0.8120 | IoU: 0.6841\n",
      "  Val   Loss: 0.2802 | Dice: 0.8127 | IoU: 0.6852\n",
      "Epoch [8/15]\n",
      "  Train Loss: 0.2740 | Dice: 0.8133 | IoU: 0.6859\n",
      "  Val   Loss: 0.2813 | Dice: 0.8131 | IoU: 0.6857\n",
      "Epoch [9/15]\n",
      "  Train Loss: 0.2724 | Dice: 0.8145 | IoU: 0.6877\n",
      "  Val   Loss: 0.2787 | Dice: 0.8127 | IoU: 0.6851\n",
      "Epoch [10/15]\n",
      "  Train Loss: 0.2708 | Dice: 0.8157 | IoU: 0.6894\n",
      "  Val   Loss: 0.2792 | Dice: 0.8118 | IoU: 0.6840\n",
      "Epoch [11/15]\n",
      "  Train Loss: 0.2692 | Dice: 0.8169 | IoU: 0.6911\n",
      "  Val   Loss: 0.2780 | Dice: 0.8093 | IoU: 0.6804\n",
      "Epoch [12/15]\n",
      "  Train Loss: 0.2667 | Dice: 0.8186 | IoU: 0.6935\n",
      "  Val   Loss: 0.2810 | Dice: 0.8048 | IoU: 0.6741\n",
      "Epoch [13/15]\n",
      "  Train Loss: 0.2637 | Dice: 0.8206 | IoU: 0.6964\n",
      "  Val   Loss: 0.2836 | Dice: 0.8056 | IoU: 0.6752\n",
      "Epoch [14/15]\n",
      "  Train Loss: 0.2602 | Dice: 0.8230 | IoU: 0.6998\n",
      "  Val   Loss: 0.2981 | Dice: 0.7876 | IoU: 0.6504\n",
      "Epoch [15/15]\n",
      "  Train Loss: 0.2559 | Dice: 0.8260 | IoU: 0.7042\n",
      "  Val   Loss: 0.3026 | Dice: 0.7794 | IoU: 0.6395\n"
     ]
    }
   ],
   "source": [
    "train(model, trainDs, valDs, criterion, optimizer, epochs=15)"
   ]
  },
  {
   "cell_type": "code",
   "execution_count": 25,
   "metadata": {
    "execution": {
     "iopub.execute_input": "2025-03-25T12:46:45.884335Z",
     "iopub.status.busy": "2025-03-25T12:46:45.883989Z",
     "iopub.status.idle": "2025-03-25T12:46:45.889750Z",
     "shell.execute_reply": "2025-03-25T12:46:45.888887Z",
     "shell.execute_reply.started": "2025-03-25T12:46:45.884302Z"
    },
    "trusted": true
   },
   "outputs": [],
   "source": [
    "def evaluateModel(model, dataloader):\n",
    "    model.eval()\n",
    "    totalDice, totalIoU = 0.0, 0.0\n",
    "\n",
    "    with torch.no_grad():\n",
    "        for imgs, masks in dataloader:\n",
    "            imgs, masks = imgs.to(device), masks.to(device)\n",
    "\n",
    "            outputs = model(imgs)\n",
    "\n",
    "            totalDice += diceCoef(masks, outputs).item()\n",
    "            totalIoU  +=  iouMetric(masks, outputs).item()\n",
    "\n",
    "    numBatches = len(dataloader)\n",
    "    avgDice = totalDice / numBatches\n",
    "    avgIoU  = totalIoU / numBatches\n",
    "\n",
    "    return avgDice, avgIoU\n"
   ]
  },
  {
   "cell_type": "code",
   "execution_count": 26,
   "metadata": {
    "execution": {
     "iopub.execute_input": "2025-03-25T12:46:45.890858Z",
     "iopub.status.busy": "2025-03-25T12:46:45.890591Z",
     "iopub.status.idle": "2025-03-25T12:47:17.479741Z",
     "shell.execute_reply": "2025-03-25T12:47:17.478701Z",
     "shell.execute_reply.started": "2025-03-25T12:46:45.890829Z"
    },
    "trusted": true
   },
   "outputs": [
    {
     "name": "stdout",
     "output_type": "stream",
     "text": [
      "\n",
      "Testing Metrics:\n",
      "Dice Score: 0.7760\n",
      "IoU Score:  0.6346\n"
     ]
    }
   ],
   "source": [
    "print(\"\\nTesting Metrics:\")\n",
    "diceScore, iouScore = evaluateModel(model, testDs)\n",
    "print(f\"Dice Score: {diceScore:.4f}\")\n",
    "print(f\"IoU Score:  {iouScore:.4f}\")"
   ]
  },
  {
   "cell_type": "code",
   "execution_count": 27,
   "metadata": {
    "execution": {
     "iopub.execute_input": "2025-03-25T12:47:17.480922Z",
     "iopub.status.busy": "2025-03-25T12:47:17.480624Z",
     "iopub.status.idle": "2025-03-25T12:47:17.506877Z",
     "shell.execute_reply": "2025-03-25T12:47:17.506265Z",
     "shell.execute_reply.started": "2025-03-25T12:47:17.480892Z"
    },
    "trusted": true
   },
   "outputs": [
    {
     "data": {
      "text/html": [
       "<div>\n",
       "<style scoped>\n",
       "    .dataframe tbody tr th:only-of-type {\n",
       "        vertical-align: middle;\n",
       "    }\n",
       "\n",
       "    .dataframe tbody tr th {\n",
       "        vertical-align: top;\n",
       "    }\n",
       "\n",
       "    .dataframe thead th {\n",
       "        text-align: right;\n",
       "    }\n",
       "</style>\n",
       "<table border=\"1\" class=\"dataframe\">\n",
       "  <thead>\n",
       "    <tr style=\"text-align: right;\">\n",
       "      <th></th>\n",
       "      <th>Method</th>\n",
       "      <th>Average IoU</th>\n",
       "      <th>Average Dice</th>\n",
       "    </tr>\n",
       "  </thead>\n",
       "  <tbody>\n",
       "    <tr>\n",
       "      <th>0</th>\n",
       "      <td>Otsu Thresholding</td>\n",
       "      <td>0.258274</td>\n",
       "      <td>0.360258</td>\n",
       "    </tr>\n",
       "    <tr>\n",
       "      <th>1</th>\n",
       "      <td>U-Net</td>\n",
       "      <td>0.634627</td>\n",
       "      <td>0.776041</td>\n",
       "    </tr>\n",
       "  </tbody>\n",
       "</table>\n",
       "</div>"
      ],
      "text/plain": [
       "              Method  Average IoU  Average Dice\n",
       "0  Otsu Thresholding     0.258274      0.360258\n",
       "1              U-Net     0.634627      0.776041"
      ]
     },
     "execution_count": 27,
     "metadata": {},
     "output_type": "execute_result"
    }
   ],
   "source": [
    "import pandas as pd\n",
    "\n",
    "# Construct the data\n",
    "data = {\n",
    "    \"Method\": [\"Otsu Thresholding\",\"U-Net\"],\n",
    "    \"Average IoU\": [\n",
    "        np.mean(ious),\n",
    "        iouScore  # from evaluate_model()\n",
    "    ],\n",
    "    \"Average Dice\": [\n",
    "        np.mean(dices),\n",
    "        diceScore  # from evaluate_model()\n",
    "    ]\n",
    "}\n",
    "\n",
    "df = pd.DataFrame(data)\n",
    "df\n"
   ]
  },
  {
   "cell_type": "code",
   "execution_count": null,
   "metadata": {
    "trusted": true
   },
   "outputs": [],
   "source": []
  }
 ],
 "metadata": {
  "kaggle": {
   "accelerator": "nvidiaTeslaT4",
   "dataSources": [
    {
     "datasetId": 6897610,
     "sourceId": 11152039,
     "sourceType": "datasetVersion"
    }
   ],
   "dockerImageVersionId": 30919,
   "isGpuEnabled": true,
   "isInternetEnabled": true,
   "language": "python",
   "sourceType": "notebook"
  },
  "kernelspec": {
   "display_name": "Python 3",
   "language": "python",
   "name": "python3"
  },
  "language_info": {
   "codemirror_mode": {
    "name": "ipython",
    "version": 3
   },
   "file_extension": ".py",
   "mimetype": "text/x-python",
   "name": "python",
   "nbconvert_exporter": "python",
   "pygments_lexer": "ipython3",
   "version": "3.10.12"
  }
 },
 "nbformat": 4,
 "nbformat_minor": 4
}
